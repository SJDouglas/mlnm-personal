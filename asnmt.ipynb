{
 "cells": [
  {
   "cell_type": "code",
   "execution_count": 1,
   "metadata": {},
   "outputs": [],
   "source": [
    "import numpy as np\n",
    "import pandas as pd\n",
    "import scipy as sp"
   ]
  },
  {
   "cell_type": "code",
   "execution_count": 2,
   "metadata": {},
   "outputs": [],
   "source": [
    "%matplotlib inline\n",
    "import matplotlib.pyplot as plt\n",
    "plt.style.use('ggplot')"
   ]
  },
  {
   "cell_type": "code",
   "execution_count": 3,
   "metadata": {},
   "outputs": [
    {
     "name": "stdout",
     "output_type": "stream",
     "text": [
      "Writing hw_data.csv\n"
     ]
    }
   ],
   "source": [
    "%%file hw_data.csv\n",
    "id,sex,weight,height\n",
    "1,M,190,77\n",
    "2,F,120,70\n",
    "3,F,110,68\n",
    "4,M,150,72\n",
    "5,O,120,66\n",
    "6,M,120,60\n",
    "7,F,140,70"
   ]
  },
  {
   "cell_type": "markdown",
   "metadata": {},
   "source": [
    "# Python"
   ]
  },
  {
   "cell_type": "markdown",
   "metadata": {},
   "source": [
    "## 1. Finish creating the following function that takes a list and returns the average value.\n",
    "\n",
    "Add each element in the list to `total` and return `total`\n",
    "\n",
    "### DO NOT use a library function nor `sum()`"
   ]
  },
  {
   "cell_type": "code",
   "execution_count": 23,
   "metadata": {},
   "outputs": [
    {
     "data": {
      "text/plain": [
       "3.375"
      ]
     },
     "execution_count": 23,
     "metadata": {},
     "output_type": "execute_result"
    }
   ],
   "source": [
    "def average(my_list):\n",
    "    total = 0\n",
    "    for item in my_list:\n",
    "        total = total + item\n",
    "        \n",
    "    total = total / len(my_list)\n",
    "    \n",
    "    return total\n",
    "\n",
    "average([1,2,1,4,3,2,5,9])"
   ]
  },
  {
   "cell_type": "markdown",
   "metadata": {},
   "source": [
    "## 2. Using a Dictionary keep track of the count of numbers (or items) from a list"
   ]
  },
  {
   "cell_type": "code",
   "execution_count": 26,
   "metadata": {},
   "outputs": [
    {
     "data": {
      "text/plain": [
       "{1: 2, 2: 2, 4: 1, 3: 1, 5: 1, 9: 1}"
      ]
     },
     "execution_count": 26,
     "metadata": {},
     "output_type": "execute_result"
    }
   ],
   "source": [
    "def counts(my_list):\n",
    "    counts = dict()\n",
    "    for item in my_list:\n",
    "        counts[item] = counts.get(item, 0) + 1\n",
    "    #based on stackexchange discussion, counts.get(item, 0) + 1 sets a default value of zero if a value\n",
    "    #isn't in the dictionary/list of number so the first time it sees a number it is 0 + 1\n",
    "    \n",
    "    return counts\n",
    "\n",
    "counts([1,2,1,4,3,2,5,9])    "
   ]
  },
  {
   "cell_type": "markdown",
   "metadata": {},
   "source": [
    "## 3.  Using the `counts()` function you created above and the `.split()` function, return a dictionary of most occuring words from the following paragraph. Bonus, remove punctuation from words."
   ]
  },
  {
   "cell_type": "code",
   "execution_count": 30,
   "metadata": {},
   "outputs": [
    {
     "data": {
      "text/plain": [
       "{'the': 32,\n",
       " 'and': 16,\n",
       " 'a': 15,\n",
       " 'to': 15,\n",
       " 'of': 9,\n",
       " 'was': 8,\n",
       " 'in': 7,\n",
       " 'she': 6,\n",
       " 'at': 6,\n",
       " 'he': 5,\n",
       " 'his': 5,\n",
       " 'you': 5,\n",
       " 'door': 4,\n",
       " 'Alice': 4,\n",
       " 'had': 4,\n",
       " 'as': 4,\n",
       " 'on': 4,\n",
       " 'footman': 3,\n",
       " 'out': 3,\n",
       " 'because': 3,\n",
       " 'by': 3,\n",
       " 'large': 3,\n",
       " 'that': 3,\n",
       " 'all': 3,\n",
       " 'their': 3,\n",
       " 'this': 3,\n",
       " 'for': 3,\n",
       " 'into': 3,\n",
       " 'up': 3,\n",
       " 'said': 3,\n",
       " 'I': 3,\n",
       " 'might': 3,\n",
       " 'For': 2,\n",
       " 'or': 2,\n",
       " 'two': 2,\n",
       " 'looking': 2,\n",
       " 'what': 2,\n",
       " 'when': 2,\n",
       " 'came': 2,\n",
       " 'him': 2,\n",
       " 'be': 2,\n",
       " 'with': 2,\n",
       " 'eyes': 2,\n",
       " 'both': 2,\n",
       " 'over': 2,\n",
       " 'very': 2,\n",
       " 'it': 2,\n",
       " 'wood': 2,\n",
       " 'The': 2,\n",
       " 'Fish-Footman': 2,\n",
       " 'from': 2,\n",
       " 'great': 2,\n",
       " 'nearly': 2,\n",
       " 'solemn': 2,\n",
       " 'tone,': 2,\n",
       " 'An': 2,\n",
       " 'invitation': 2,\n",
       " 'play': 2,\n",
       " 'croquet.’': 2,\n",
       " 'repeated,': 2,\n",
       " 'same': 2,\n",
       " 'so': 2,\n",
       " 'door,': 2,\n",
       " 'went': 2,\n",
       " 'no': 2,\n",
       " 'knocking,’': 2,\n",
       " 'noise': 2,\n",
       " 'inside,': 2,\n",
       " 'one': 2,\n",
       " 'could': 2,\n",
       " 'if': 2,\n",
       " 'am': 2,\n",
       " 'get': 2,\n",
       " 'in?’': 2,\n",
       " 'Footman': 2,\n",
       " 'out,': 2,\n",
       " 'minute': 1,\n",
       " 'stood': 1,\n",
       " 'house,': 1,\n",
       " 'wondering': 1,\n",
       " 'do': 1,\n",
       " 'next,': 1,\n",
       " 'suddenly': 1,\n",
       " 'livery': 1,\n",
       " 'running': 1,\n",
       " 'wood—(she': 1,\n",
       " 'considered': 1,\n",
       " 'livery:': 1,\n",
       " 'otherwise,': 1,\n",
       " 'judging': 1,\n",
       " 'face': 1,\n",
       " 'only,': 1,\n",
       " 'would': 1,\n",
       " 'have': 1,\n",
       " 'called': 1,\n",
       " 'fish)—and': 1,\n",
       " 'rapped': 1,\n",
       " 'loudly': 1,\n",
       " 'knuckles.': 1,\n",
       " 'It': 1,\n",
       " 'opened': 1,\n",
       " 'another': 1,\n",
       " 'livery,': 1,\n",
       " 'round': 1,\n",
       " 'face,': 1,\n",
       " 'like': 1,\n",
       " 'frog;': 1,\n",
       " 'footmen,': 1,\n",
       " 'noticed,': 1,\n",
       " 'powdered': 1,\n",
       " 'hair': 1,\n",
       " 'curled': 1,\n",
       " 'heads.': 1,\n",
       " 'She': 1,\n",
       " 'felt': 1,\n",
       " 'curious': 1,\n",
       " 'know': 1,\n",
       " 'about,': 1,\n",
       " 'crept': 1,\n",
       " 'little': 1,\n",
       " 'way': 1,\n",
       " 'listen.': 1,\n",
       " 'began': 1,\n",
       " 'producing': 1,\n",
       " 'under': 1,\n",
       " 'arm': 1,\n",
       " 'letter,': 1,\n",
       " 'himself,': 1,\n",
       " 'handed': 1,\n",
       " 'other,': 1,\n",
       " 'saying,': 1,\n",
       " '‘For': 1,\n",
       " 'Duchess.': 1,\n",
       " 'Queen': 1,\n",
       " 'Frog-Footman': 1,\n",
       " 'only': 1,\n",
       " 'changing': 1,\n",
       " 'order': 1,\n",
       " 'words': 1,\n",
       " 'little,': 1,\n",
       " '‘From': 1,\n",
       " 'Queen.': 1,\n",
       " 'Duchess': 1,\n",
       " 'Then': 1,\n",
       " 'they': 1,\n",
       " 'bowed': 1,\n",
       " 'low,': 1,\n",
       " 'curls': 1,\n",
       " 'got': 1,\n",
       " 'entangled': 1,\n",
       " 'together.': 1,\n",
       " 'laughed': 1,\n",
       " 'much': 1,\n",
       " 'this,': 1,\n",
       " 'run': 1,\n",
       " 'back': 1,\n",
       " 'fear': 1,\n",
       " 'hearing': 1,\n",
       " 'her;': 1,\n",
       " 'next': 1,\n",
       " 'peeped': 1,\n",
       " 'gone,': 1,\n",
       " 'other': 1,\n",
       " 'sitting': 1,\n",
       " 'ground': 1,\n",
       " 'near': 1,\n",
       " 'staring': 1,\n",
       " 'stupidly': 1,\n",
       " 'sky.': 1,\n",
       " 'timidly': 1,\n",
       " 'knocked.': 1,\n",
       " '‘There’s': 1,\n",
       " 'sort': 1,\n",
       " 'use': 1,\n",
       " 'Footman,': 1,\n",
       " '‘and': 1,\n",
       " 'reasons.': 1,\n",
       " 'First,': 1,\n",
       " 'I’m': 1,\n",
       " 'side': 1,\n",
       " 'are;': 1,\n",
       " 'secondly,': 1,\n",
       " 'they’re': 1,\n",
       " 'making': 1,\n",
       " 'such': 1,\n",
       " 'possibly': 1,\n",
       " 'hear': 1,\n",
       " 'you.’': 1,\n",
       " 'And': 1,\n",
       " 'certainly': 1,\n",
       " 'there': 1,\n",
       " 'most': 1,\n",
       " 'extraordinary': 1,\n",
       " 'going': 1,\n",
       " 'within—a': 1,\n",
       " 'constant': 1,\n",
       " 'howling': 1,\n",
       " 'sneezing,': 1,\n",
       " 'every': 1,\n",
       " 'now': 1,\n",
       " 'then': 1,\n",
       " 'crash,': 1,\n",
       " 'dish': 1,\n",
       " 'kettle': 1,\n",
       " 'been': 1,\n",
       " 'broken': 1,\n",
       " 'pieces.': 1,\n",
       " '‘Please,': 1,\n",
       " 'then,’': 1,\n",
       " 'Alice,': 1,\n",
       " '‘how': 1,\n",
       " '‘There': 1,\n",
       " 'some': 1,\n",
       " 'sense': 1,\n",
       " 'your': 1,\n",
       " 'without': 1,\n",
       " 'attending': 1,\n",
       " 'her,': 1,\n",
       " '‘if': 1,\n",
       " 'we': 1,\n",
       " 'between': 1,\n",
       " 'us.': 1,\n",
       " 'instance,': 1,\n",
       " 'were': 1,\n",
       " 'knock,': 1,\n",
       " 'let': 1,\n",
       " 'know.’': 1,\n",
       " 'He': 1,\n",
       " 'sky': 1,\n",
       " 'time': 1,\n",
       " 'speaking,': 1,\n",
       " 'thought': 1,\n",
       " 'decidedly': 1,\n",
       " 'uncivil.': 1,\n",
       " '‘But': 1,\n",
       " 'perhaps': 1,\n",
       " 'can’t': 1,\n",
       " 'help': 1,\n",
       " 'it,’': 1,\n",
       " 'herself;': 1,\n",
       " '‘his': 1,\n",
       " 'are': 1,\n",
       " 'top': 1,\n",
       " 'head.': 1,\n",
       " 'But': 1,\n",
       " 'any': 1,\n",
       " 'rate': 1,\n",
       " 'answer': 1,\n",
       " 'questions.—How': 1,\n",
       " 'aloud.': 1,\n",
       " '‘I': 1,\n",
       " 'shall': 1,\n",
       " 'sit': 1,\n",
       " 'here,’': 1,\n",
       " 'remarked,': 1,\n",
       " '‘till': 1,\n",
       " 'tomorrow—’': 1,\n",
       " 'At': 1,\n",
       " 'moment': 1,\n",
       " 'house': 1,\n",
       " 'opened,': 1,\n",
       " 'plate': 1,\n",
       " 'skimming': 1,\n",
       " 'straight': 1,\n",
       " 'Footman’s': 1,\n",
       " 'head:': 1,\n",
       " 'just': 1,\n",
       " 'grazed': 1,\n",
       " 'nose,': 1,\n",
       " 'broke': 1,\n",
       " 'pieces': 1,\n",
       " 'against': 1,\n",
       " 'trees': 1,\n",
       " 'behind': 1,\n",
       " 'him.': 1}"
      ]
     },
     "execution_count": 30,
     "metadata": {},
     "output_type": "execute_result"
    }
   ],
   "source": [
    "paragraph_text = '''\n",
    "For a minute or two she stood looking at the house, and wondering what to do next, when suddenly a footman in livery came running out of the wood—(she considered him to be a footman because he was in livery: otherwise, judging by his face only, she would have called him a fish)—and rapped loudly at the door with his knuckles. It was opened by another footman in livery, with a round face, and large eyes like a frog; and both footmen, Alice noticed, had powdered hair that curled all over their heads. She felt very curious to know what it was all about, and crept a little way out of the wood to listen.\n",
    "The Fish-Footman began by producing from under his arm a great letter, nearly as large as himself, and this he handed over to the other, saying, in a solemn tone, ‘For the Duchess. An invitation from the Queen to play croquet.’ The Frog-Footman repeated, in the same solemn tone, only changing the order of the words a little, ‘From the Queen. An invitation for the Duchess to play croquet.’\n",
    "Then they both bowed low, and their curls got entangled together.\n",
    "Alice laughed so much at this, that she had to run back into the wood for fear of their hearing her; and when she next peeped out the Fish-Footman was gone, and the other was sitting on the ground near the door, staring stupidly up into the sky.\n",
    "Alice went timidly up to the door, and knocked.\n",
    "‘There’s no sort of use in knocking,’ said the Footman, ‘and that for two reasons. First, because I’m on the same side of the door as you are; secondly, because they’re making such a noise inside, no one could possibly hear you.’ And certainly there was a most extraordinary noise going on within—a constant howling and sneezing, and every now and then a great crash, as if a dish or kettle had been broken to pieces.\n",
    "‘Please, then,’ said Alice, ‘how am I to get in?’\n",
    "‘There might be some sense in your knocking,’ the Footman went on without attending to her, ‘if we had the door between us. For instance, if you were inside, you might knock, and I could let you out, you know.’ He was looking up into the sky all the time he was speaking, and this Alice thought decidedly uncivil. ‘But perhaps he can’t help it,’ she said to herself; ‘his eyes are so very nearly at the top of his head. But at any rate he might answer questions.—How am I to get in?’ she repeated, aloud.\n",
    "‘I shall sit here,’ the Footman remarked, ‘till tomorrow—’\n",
    "At this moment the door of the house opened, and a large plate came skimming out, straight at the Footman’s head: it just grazed his nose, and broke to pieces against one of the trees behind him.'''\n",
    "\n",
    "input = str.split(paragraph_text) #split separates string into list defaulting to whitespace as a separator \n",
    "\n",
    "from collections import Counter \n",
    "\n",
    "def counts(my_list):\n",
    "    counts = dict()\n",
    "    for item in my_list:\n",
    "        counts[item] = counts.get(item, 0) + 1\n",
    "        \n",
    "    sorted_counts = dict(Counter(counts).most_common()) #counter library had recommended function to help make the output better to interpret \n",
    "    \n",
    "    return sorted_counts\n",
    "\n",
    "\n",
    "counts(input)\n",
    "\n"
   ]
  },
  {
   "cell_type": "markdown",
   "metadata": {},
   "source": [
    "## 4. Read in a file using `open()` and iterated through the file line-by-line write each line from the file to a new file in a  `title()`-ized. Create your own file for input\n",
    "\n",
    "`This is the first line` ->  `This Is The First Line`\n",
    "\n",
    "Hint: There's a function to do this"
   ]
  },
  {
   "cell_type": "code",
   "execution_count": 62,
   "metadata": {},
   "outputs": [
    {
     "name": "stdout",
     "output_type": "stream",
     "text": [
      "This Is My First Line\n",
      "This Is My Second Line\n",
      "This Is My Third Line\n",
      "This Is My Fourth Line\n",
      "This Is My Fifth Line\n",
      "\n",
      "\n"
     ]
    }
   ],
   "source": [
    "import os\n",
    "directory = os.listdir('/Users/spencerdouglas/Desktop/mlnm-personal')\n",
    "path = directory[2] \n",
    "\n",
    "with open(path, 'r') as input, open('Output.txt', 'w') as output:\n",
    "    for line in input:\n",
    "        newline = line.title()\n",
    "        output.write(newline)\n",
    "\n",
    "with open('Output.txt', 'r') as file:\n",
    "    print(file.read())\n",
    "\n"
   ]
  },
  {
   "cell_type": "markdown",
   "metadata": {},
   "source": [
    "# Numpy"
   ]
  },
  {
   "cell_type": "markdown",
   "metadata": {},
   "source": [
    "## 1. Given a list, find the average using a numpy function. "
   ]
  },
  {
   "cell_type": "code",
   "execution_count": 63,
   "metadata": {},
   "outputs": [
    {
     "data": {
      "text/plain": [
       "3.375"
      ]
     },
     "execution_count": 63,
     "metadata": {},
     "output_type": "execute_result"
    }
   ],
   "source": [
    "simple_list = [1,2,1,4,3,2,5,9]\n",
    "\n",
    "np.mean(simple_list)\n"
   ]
  },
  {
   "cell_type": "markdown",
   "metadata": {},
   "source": [
    "## 2. Given two lists of Heights and Weights of individual, calculate the BMI of those individuals, without writing a `for-loop`"
   ]
  },
  {
   "cell_type": "code",
   "execution_count": 69,
   "metadata": {},
   "outputs": [
    {
     "name": "stdout",
     "output_type": "stream",
     "text": [
      "[29.06592681 27.73229978 30.73941662 24.16326531 26.33288875]\n"
     ]
    }
   ],
   "source": [
    "heights = [174, 173, 173, 175, 171] #centimeters \n",
    "weights = [88, 83, 92, 74, 77] #KG\n",
    "\n",
    "height_array = np.array(heights)\n",
    "weight_array = np.array(weights)\n",
    "\n",
    "#BMI formula from https://www.cdc.gov/nccdphp/dnpao/growthcharts/training/bmiage/page5_1.html\n",
    "# (kg / m**2) convert height to m by height/100\n",
    "\n",
    "meters = height_array / 100\n",
    "\n",
    "bmi = weight_array / (meters **2)\n",
    "\n",
    "print(bmi)\n",
    "\n",
    "\n"
   ]
  },
  {
   "cell_type": "markdown",
   "metadata": {},
   "source": [
    "## 3. Create an array of length 20 filled with random values (between 0 to 1) "
   ]
  },
  {
   "cell_type": "code",
   "execution_count": 70,
   "metadata": {},
   "outputs": [
    {
     "data": {
      "text/plain": [
       "array([0.62902004, 0.88484477, 0.27570957, 0.43154038, 0.58479144,\n",
       "       0.48939863, 0.74224344, 0.68915272, 0.38106724, 0.57732845,\n",
       "       0.03372957, 0.83528319, 0.87147308, 0.88579039, 0.18502511,\n",
       "       0.73489683, 0.03996998, 0.59798767, 0.52759378, 0.17061822])"
      ]
     },
     "execution_count": 70,
     "metadata": {},
     "output_type": "execute_result"
    }
   ],
   "source": [
    "array = np.random.rand(20)\n",
    "array"
   ]
  },
  {
   "cell_type": "markdown",
   "metadata": {},
   "source": [
    "## 4. Create an array with at least 1000 random numbers from normal distributions (normal). Then, plot a histogram of these values (`plt.hist`)."
   ]
  },
  {
   "cell_type": "code",
   "execution_count": 74,
   "metadata": {},
   "outputs": [
    {
     "data": {
      "text/plain": [
       "(array([  2.,   6.,  46., 129., 240., 282., 197.,  67.,  25.,   6.]),\n",
       " array([-3.70187147, -2.99658452, -2.29129757, -1.58601062, -0.88072367,\n",
       "        -0.17543672,  0.52985023,  1.23513719,  1.94042414,  2.64571109,\n",
       "         3.35099804]),\n",
       " <BarContainer object of 10 artists>)"
      ]
     },
     "execution_count": 74,
     "metadata": {},
     "output_type": "execute_result"
    },
    {
     "data": {
      "image/png": "[encoded data removed]",
      "text/plain": [
       "<Figure size 640x480 with 1 Axes>"
      ]
     },
     "metadata": {},
     "output_type": "display_data"
    }
   ],
   "source": [
    "array = np.random.normal(size = 1000)\n",
    "\n",
    "plt.hist(array)"
   ]
  },
  {
   "cell_type": "markdown",
   "metadata": {},
   "source": [
    "# Pandas"
   ]
  },
  {
   "cell_type": "markdown",
   "metadata": {},
   "source": [
    "## 1. Read in a CSV () and display all the columns and their respective data types "
   ]
  },
  {
   "cell_type": "code",
   "execution_count": 78,
   "metadata": {},
   "outputs": [
    {
     "name": "stdout",
     "output_type": "stream",
     "text": [
      "   id sex  weight  height\n",
      "0   1   M     190      77\n",
      "1   2   F     120      70\n",
      "2   3   F     110      68\n",
      "3   4   M     150      72\n",
      "4   5   O     120      66\n",
      "5   6   M     120      60\n",
      "6   7   F     140      70\n"
     ]
    },
    {
     "data": {
      "text/plain": [
       "id         int64\n",
       "sex       object\n",
       "weight     int64\n",
       "height     int64\n",
       "dtype: object"
      ]
     },
     "execution_count": 78,
     "metadata": {},
     "output_type": "execute_result"
    }
   ],
   "source": [
    "import pandas as pd\n",
    "data = pd.read_csv('hw_data.csv')\n",
    "print(data)\n",
    "data.dtypes"
   ]
  },
  {
   "cell_type": "markdown",
   "metadata": {},
   "source": [
    "## 2. Find the average weight "
   ]
  },
  {
   "cell_type": "code",
   "execution_count": 81,
   "metadata": {},
   "outputs": [
    {
     "name": "stderr",
     "output_type": "stream",
     "text": [
      "/var/folders/g3/jswb050d2gbg2jfqy91z6nq40000gn/T/ipykernel_74342/531903386.py:1: FutureWarning: The default value of numeric_only in DataFrame.mean is deprecated. In a future version, it will default to False. In addition, specifying 'numeric_only=None' is deprecated. Select only valid columns or specify the value of numeric_only to silence this warning.\n",
      "  data.mean()\n"
     ]
    },
    {
     "data": {
      "text/plain": [
       "id          4.000000\n",
       "weight    135.714286\n",
       "height     69.000000\n",
       "dtype: float64"
      ]
     },
     "execution_count": 81,
     "metadata": {},
     "output_type": "execute_result"
    }
   ],
   "source": [
    "data.mean()"
   ]
  },
  {
   "cell_type": "markdown",
   "metadata": {},
   "source": [
    "## 3. Find the Value Counts on column `sex` "
   ]
  },
  {
   "cell_type": "code",
   "execution_count": 83,
   "metadata": {},
   "outputs": [
    {
     "data": {
      "text/plain": [
       "M    3\n",
       "F    3\n",
       "O    1\n",
       "Name: sex, dtype: int64"
      ]
     },
     "execution_count": 83,
     "metadata": {},
     "output_type": "execute_result"
    }
   ],
   "source": [
    "  data['sex'].value_counts()"
   ]
  },
  {
   "cell_type": "markdown",
   "metadata": {},
   "source": [
    "## 4. Plot Height vs. Weight "
   ]
  },
  {
   "cell_type": "code",
   "execution_count": 89,
   "metadata": {},
   "outputs": [
    {
     "data": {
      "text/plain": [
       "Text(0, 0.5, 'Weigth')"
      ]
     },
     "execution_count": 89,
     "metadata": {},
     "output_type": "execute_result"
    },
    {
     "data": {
      "image/png": "[encoded data removed]",
      "text/plain": [
       "<Figure size 640x480 with 1 Axes>"
      ]
     },
     "metadata": {},
     "output_type": "display_data"
    }
   ],
   "source": [
    "import matplotlib.pyplot as plt\n",
    "plt.scatter(data['height'], data['weight'])\n",
    "plt.title(\"Height and Weight\")\n",
    "plt.xlabel(\"Height\")\n",
    "plt.ylabel(\"Weigth\")\n"
   ]
  },
  {
   "cell_type": "markdown",
   "metadata": {},
   "source": [
    "## 5. Calculate BMI and save as a new column"
   ]
  },
  {
   "cell_type": "code",
   "execution_count": 93,
   "metadata": {},
   "outputs": [
    {
     "name": "stdout",
     "output_type": "stream",
     "text": [
      "   id sex  weight  height  Meters        BMI\n",
      "0   1   M     190      77    0.77  22.528251\n",
      "1   2   F     120      70    0.70  17.216327\n",
      "2   3   F     110      68    0.68  16.723616\n",
      "3   4   M     150      72    0.72  20.341435\n",
      "4   5   O     120      66    0.66  19.366391\n",
      "5   6   M     120      60    0.60  23.433333\n",
      "6   7   F     140      70    0.70  20.085714\n"
     ]
    }
   ],
   "source": [
    "#weight and height in this data are assumed to be inches/pounds based on logical possible values\n",
    "#formula: https://home.ubalt.edu/ntsbarsh/business-stat/otherapplets/BMI.htm\n",
    "# (height / weight squared) x 703 to convert to metric values\n",
    "\n",
    "#Add BMI Column\n",
    "\n",
    "data['BMI'] = (data['weight'] / (data['height']**2)) * 703\n",
    "\n",
    "print(data)"
   ]
  },
  {
   "cell_type": "markdown",
   "metadata": {},
   "source": [
    "## 6. Save sheet as a new CSV file `hw_dataB.csv`"
   ]
  },
  {
   "cell_type": "code",
   "execution_count": 94,
   "metadata": {},
   "outputs": [],
   "source": [
    "data.to_csv('hw_dataB.csv')"
   ]
  },
  {
   "cell_type": "markdown",
   "metadata": {},
   "source": [
    "## Run the following (Mac)"
   ]
  },
  {
   "cell_type": "code",
   "execution_count": 95,
   "metadata": {},
   "outputs": [
    {
     "name": "stdout",
     "output_type": "stream",
     "text": [
      ",id,sex,weight,height,Meters,BMI\r\n",
      "0,1,M,190,77,0.77,22.52825096980941\r\n",
      "1,2,F,120,70,0.7,17.216326530612243\r\n",
      "2,3,F,110,68,0.68,16.72361591695502\r\n",
      "3,4,M,150,72,0.72,20.341435185185187\r\n",
      "4,5,O,120,66,0.66,19.366391184573004\r\n",
      "5,6,M,120,60,0.6,23.433333333333334\r\n",
      "6,7,F,140,70,0.7,20.085714285714285\r\n"
     ]
    }
   ],
   "source": [
    "!cat hw_dataB.csv"
   ]
  },
  {
   "cell_type": "markdown",
   "metadata": {},
   "source": [
    "## Run the following (Windows) "
   ]
  },
  {
   "cell_type": "code",
   "execution_count": null,
   "metadata": {},
   "outputs": [],
   "source": [
    "!type hw_dataB.csv"
   ]
  }
 ],
 "metadata": {
  "kernelspec": {
   "display_name": "Python 3 (ipykernel)",
   "language": "python",
   "name": "python3"
  },
  "language_info": {
   "codemirror_mode": {
    "name": "ipython",
    "version": 3
   },
   "file_extension": ".py",
   "mimetype": "text/x-python",
   "name": "python",
   "nbconvert_exporter": "python",
   "pygments_lexer": "ipython3",
   "version": "3.10.9"
  }
 },
 "nbformat": 4,
 "nbformat_minor": 1
}
